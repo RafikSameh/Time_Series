{
 "cells": [
  {
   "cell_type": "code",
   "execution_count": 2,
   "id": "f61f6dde",
   "metadata": {},
   "outputs": [],
   "source": [
    "import pandas as pd\n",
    "from garch_sarima import Sarima_Garch_Model,Data_Handler\n",
    "import glob"
   ]
  },
  {
   "cell_type": "code",
   "execution_count": 5,
   "id": "1ef956f6",
   "metadata": {},
   "outputs": [],
   "source": [
    "data = glob.glob(\"F:\\Data science training\\GARCH_SARIMA package\\DFs\\*\")"
   ]
  },
  {
   "cell_type": "code",
   "execution_count": 7,
   "id": "cfdca8ae",
   "metadata": {},
   "outputs": [],
   "source": [
    "df = pd.read_csv(\"DFs\\df_5082.csv\")"
   ]
  },
  {
   "cell_type": "code",
   "execution_count": null,
   "id": "8ad5dd34",
   "metadata": {},
   "outputs": [
    {
     "ename": "AttributeError",
     "evalue": "'DataFrame' object has no attribute 'Name'",
     "output_type": "error",
     "traceback": [
      "\u001b[1;31m---------------------------------------------------------------------------\u001b[0m",
      "\u001b[1;31mAttributeError\u001b[0m                            Traceback (most recent call last)",
      "\u001b[1;32m~\\AppData\\Local\\Temp\\ipykernel_21168\\4226938048.py\u001b[0m in \u001b[0;36m?\u001b[1;34m()\u001b[0m\n\u001b[1;32m----> 1\u001b[1;33m \u001b[0mdf\u001b[0m\u001b[1;33m.\u001b[0m\u001b[0mName\u001b[0m\u001b[1;33m\u001b[0m\u001b[1;33m\u001b[0m\u001b[0m\n\u001b[0m",
      "\u001b[1;32mc:\\Users\\Lenovo\\anaconda3\\lib\\site-packages\\pandas\\core\\generic.py\u001b[0m in \u001b[0;36m?\u001b[1;34m(self, name)\u001b[0m\n\u001b[0;32m   6295\u001b[0m             \u001b[1;32mand\u001b[0m \u001b[0mname\u001b[0m \u001b[1;32mnot\u001b[0m \u001b[1;32min\u001b[0m \u001b[0mself\u001b[0m\u001b[1;33m.\u001b[0m\u001b[0m_accessors\u001b[0m\u001b[1;33m\u001b[0m\u001b[1;33m\u001b[0m\u001b[0m\n\u001b[0;32m   6296\u001b[0m             \u001b[1;32mand\u001b[0m \u001b[0mself\u001b[0m\u001b[1;33m.\u001b[0m\u001b[0m_info_axis\u001b[0m\u001b[1;33m.\u001b[0m\u001b[0m_can_hold_identifiers_and_holds_name\u001b[0m\u001b[1;33m(\u001b[0m\u001b[0mname\u001b[0m\u001b[1;33m)\u001b[0m\u001b[1;33m\u001b[0m\u001b[1;33m\u001b[0m\u001b[0m\n\u001b[0;32m   6297\u001b[0m         ):\n\u001b[0;32m   6298\u001b[0m             \u001b[1;32mreturn\u001b[0m \u001b[0mself\u001b[0m\u001b[1;33m[\u001b[0m\u001b[0mname\u001b[0m\u001b[1;33m]\u001b[0m\u001b[1;33m\u001b[0m\u001b[1;33m\u001b[0m\u001b[0m\n\u001b[1;32m-> 6299\u001b[1;33m         \u001b[1;32mreturn\u001b[0m \u001b[0mobject\u001b[0m\u001b[1;33m.\u001b[0m\u001b[0m__getattribute__\u001b[0m\u001b[1;33m(\u001b[0m\u001b[0mself\u001b[0m\u001b[1;33m,\u001b[0m \u001b[0mname\u001b[0m\u001b[1;33m)\u001b[0m\u001b[1;33m\u001b[0m\u001b[1;33m\u001b[0m\u001b[0m\n\u001b[0m",
      "\u001b[1;31mAttributeError\u001b[0m: 'DataFrame' object has no attribute 'Name'"
     ]
    }
   ],
   "source": [
    "df.__"
   ]
  },
  {
   "cell_type": "code",
   "execution_count": 6,
   "id": "b10aa411",
   "metadata": {},
   "outputs": [
    {
     "data": {
      "text/plain": [
       "['F:\\\\Data science training\\\\GARCH_SARIMA package\\\\DFs\\\\df_5082.csv',\n",
       " 'F:\\\\Data science training\\\\GARCH_SARIMA package\\\\DFs\\\\df_5083.csv',\n",
       " 'F:\\\\Data science training\\\\GARCH_SARIMA package\\\\DFs\\\\df_5084.csv',\n",
       " 'F:\\\\Data science training\\\\GARCH_SARIMA package\\\\DFs\\\\df_5087.csv',\n",
       " 'F:\\\\Data science training\\\\GARCH_SARIMA package\\\\DFs\\\\df_5199.csv',\n",
       " 'F:\\\\Data science training\\\\GARCH_SARIMA package\\\\DFs\\\\df_5200.csv',\n",
       " 'F:\\\\Data science training\\\\GARCH_SARIMA package\\\\DFs\\\\df_5201.csv',\n",
       " 'F:\\\\Data science training\\\\GARCH_SARIMA package\\\\DFs\\\\df_5316.csv',\n",
       " 'F:\\\\Data science training\\\\GARCH_SARIMA package\\\\DFs\\\\df_5317.csv',\n",
       " 'F:\\\\Data science training\\\\GARCH_SARIMA package\\\\DFs\\\\df_5318.csv']"
      ]
     },
     "execution_count": 6,
     "metadata": {},
     "output_type": "execute_result"
    }
   ],
   "source": [
    "data"
   ]
  },
  {
   "cell_type": "code",
   "execution_count": null,
   "id": "79b7cd99",
   "metadata": {},
   "outputs": [],
   "source": [
    "for i in range(9):\n",
    "    df = "
   ]
  }
 ],
 "metadata": {
  "kernelspec": {
   "display_name": "base",
   "language": "python",
   "name": "python3"
  },
  "language_info": {
   "codemirror_mode": {
    "name": "ipython",
    "version": 3
   },
   "file_extension": ".py",
   "mimetype": "text/x-python",
   "name": "python",
   "nbconvert_exporter": "python",
   "pygments_lexer": "ipython3",
   "version": "3.9.19"
  }
 },
 "nbformat": 4,
 "nbformat_minor": 5
}
